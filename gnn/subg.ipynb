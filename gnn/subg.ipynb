{
 "cells": [
  {
   "cell_type": "code",
   "execution_count": 1,
   "metadata": {},
   "outputs": [
    {
     "name": "stderr",
     "output_type": "stream",
     "text": [
      "Using backend: pytorch\n"
     ]
    }
   ],
   "source": [
    "import os\n",
    "import argparse\n",
    "import datetime as dt\n",
    "import numpy as np\n",
    "import torch as th\n",
    "import torch.nn as thnn\n",
    "import torch.nn.functional as F\n",
    "import torch.optim as optim\n",
    "import torch.distributed as dist\n",
    "import torch.multiprocessing as mp\n",
    "from torch.cuda.amp import autocast, GradScaler\n",
    "from pytorch_toolbelt import losses as L\n",
    "\n",
    "import dgl\n",
    "from dgl.dataloading.neighbor import MultiLayerNeighborSampler\n",
    "from dgl.dataloading.pytorch import NodeDataLoader\n",
    "\n",
    "from utils import load_dgl_graph"
   ]
  },
  {
   "cell_type": "code",
   "execution_count": 2,
   "metadata": {},
   "outputs": [
    {
     "name": "stdout",
     "output_type": "stream",
     "text": [
      "################ Graph info: ###############\n",
      "Graph(num_nodes=3655452, num_edges=29168650,\n",
      "      ndata_schemes={}\n",
      "      edata_schemes={})\n",
      "################ Label info: ################\n",
      "Total labels (including not labeled): 3655452\n",
      "               Training label number: 939963\n",
      "             Validation label number: 104454\n",
      "                   Test label number: 592391\n",
      "################ Feature info: ###############\n",
      "Node's feature shape:torch.Size([3655452, 300])\n"
     ]
    }
   ],
   "source": [
    "graph, labels, train_nid, val_nid, test_nid, node_feat = load_dgl_graph('../../MAXPdata')\n",
    "graph.ndata['feature'] = node_feat"
   ]
  },
  {
   "cell_type": "code",
   "execution_count": 3,
   "metadata": {},
   "outputs": [],
   "source": [
    "sampler = dgl.dataloading.MultiLayerFullNeighborSampler(5)\n",
    "train_dataloader = NodeDataLoader(graph,\n",
    "                                    train_nid,\n",
    "                                    sampler,\n",
    "                                    batch_size=3,\n",
    "                                    shuffle=True,\n",
    "                                    drop_last=False,\n",
    "                                    num_workers=0,\n",
    "                                    )"
   ]
  },
  {
   "cell_type": "code",
   "execution_count": 44,
   "metadata": {},
   "outputs": [
    {
     "name": "stdout",
     "output_type": "stream",
     "text": [
      "step: 2\n",
      "seeds: tensor([1372502, 2342634, 1193582])\n"
     ]
    }
   ],
   "source": [
    "for step, (input_nodes, seeds, blocks) in enumerate(train_dataloader):\n",
    "    if step==2:\n",
    "        g=blocks\n",
    "        subg = dgl.in_subgraph(graph, seeds)\n",
    "        print(\"step:\", step)\n",
    "        print(\"seeds:\", seeds)\n",
    "        break"
   ]
  },
  {
   "cell_type": "code",
   "execution_count": 46,
   "metadata": {},
   "outputs": [
    {
     "data": {
      "text/plain": [
       "Graph(num_nodes=642, num_edges=936,\n",
       "      ndata_schemes={'feature': Scheme(shape=(300,), dtype=torch.float32), '_ID': Scheme(shape=(), dtype=torch.int64)}\n",
       "      edata_schemes={'_ID': Scheme(shape=(), dtype=torch.int64)})"
      ]
     },
     "execution_count": 46,
     "metadata": {},
     "output_type": "execute_result"
    }
   ],
   "source": [
    "# a=blocks[1].ndata[dgl.NID]['_N']\n",
    "# b=blocks[0].ndata[dgl.NID]['_N']\n",
    "# c=th.cat([a,b],0)\n",
    "\n",
    "c = th.Tensor([]).to(th.int32)\n",
    "for block in blocks:\n",
    "    c=th.cat([c, block.srcdata[dgl.NID]],0)\n",
    "    # print(block)\n",
    "    # print(block.srcdata[dgl.NID])\n",
    "sg = dgl.node_subgraph(graph, c)\n",
    "sg"
   ]
  },
  {
   "cell_type": "code",
   "execution_count": 6,
   "metadata": {},
   "outputs": [
    {
     "name": "stdout",
     "output_type": "stream",
     "text": [
      "Block(num_src_nodes=13, num_dst_nodes=9, num_edges=11)\n",
      "tensor([ 3,  4,  5,  6,  7,  8,  9,  5, 10, 11, 12])\n",
      "tensor([1, 1, 3, 5, 5, 5, 6, 6, 7, 8, 8])\n",
      "tensor([1878431,  939332, 1875357, 2013265, 1368618, 3099675, 3353471, 3550293,\n",
      "        3456768, 3481510, 3444191, 3402132, 3456361])\n",
      "tensor([1878431,  939332, 1875357, 2013265, 1368618, 3099675, 3353471, 3550293,\n",
      "        3456768])\n"
     ]
    }
   ],
   "source": [
    "which_block = 1\n",
    "src = g[which_block].edges()[0]\n",
    "dst = g[which_block].edges()[1]\n",
    "\n",
    "print(g[which_block])\n",
    "print(src)\n",
    "print(dst)\n",
    "print(g[which_block].srcdata[dgl.NID])\n",
    "print(g[which_block].dstdata[dgl.NID])"
   ]
  },
  {
   "cell_type": "code",
   "execution_count": 7,
   "metadata": {},
   "outputs": [
    {
     "name": "stdout",
     "output_type": "stream",
     "text": [
      "tensor([ 0,  1,  2,  3,  4,  5,  6,  7,  8,  9, 10, 11, 12])\n",
      "tensor([ 0,  1,  2,  3,  4,  5,  6,  7,  8,  9, 10, 11, 12])\n",
      "Graph(num_nodes=13, num_edges=11,\n",
      "      ndata_schemes={}\n",
      "      edata_schemes={})\n"
     ]
    }
   ],
   "source": [
    "new_g = dgl.graph((src, dst))\n",
    "print(new_g.nodes())\n",
    "print(g[which_block].nodes('_N'))\n",
    "print(new_g)"
   ]
  },
  {
   "cell_type": "code",
   "execution_count": 8,
   "metadata": {},
   "outputs": [
    {
     "data": {
      "text/plain": [
       "(tensor([], dtype=torch.int64), tensor([], dtype=torch.int64))"
      ]
     },
     "execution_count": 8,
     "metadata": {},
     "output_type": "execute_result"
    }
   ],
   "source": [
    "g = dgl.graph(([0, 0, 1, 2, 3, 4], [2, 1, 2, 3, 4, 0]))  # 5-node cycle\n",
    "# sg = dgl.in_subgraph(g, [2])\n",
    "sg = dgl.node_subgraph(g, [0, 0, 0, 0, 0, 0])\n",
    "sg.edges()\n",
    "# sg.ndata[dgl.NID]  # original node IDs\n",
    "# sg.edata[dgl.EID]  # original edge IDs"
   ]
  },
  {
   "cell_type": "code",
   "execution_count": 19,
   "metadata": {},
   "outputs": [
    {
     "data": {
      "image/png": "[encoded data removed]",
      "text/plain": [
       "<Figure size 432x288 with 1 Axes>"
      ]
     },
     "metadata": {},
     "output_type": "display_data"
    }
   ],
   "source": [
    "import networkx as nx\n",
    "import dgl\n",
    "import matplotlib.pyplot as plt\n",
    "\n",
    "# plt.subplot(121)#在画布上绘制子图，第一个‘1’代表共有一行，‘2’代表有两列，‘1’代表该图片将位于1号位置\n",
    "# nx.draw(g.to_networkx(), with_labels=1, node_size=30, font_size=12)\n",
    "\n",
    "# plt.subplot(122)#在画布上绘制子图，第一个‘1’代表共有一行，‘2’代表有两列，‘1’代表该图片将位于1号位置\n",
    "nx.draw(sg.to_networkx(), with_labels=1, node_size=30, font_size=12)\n",
    "\n",
    "plt.show()"
   ]
  }
 ],
 "metadata": {
  "interpreter": {
   "hash": "da3baeefc63dd2b5a45121a4a8d592321b6521653744db7f981e38554682dd0f"
  },
  "kernelspec": {
   "display_name": "Python 3.7.11 64-bit ('py37': conda)",
   "name": "python3"
  },
  "language_info": {
   "codemirror_mode": {
    "name": "ipython",
    "version": 3
   },
   "file_extension": ".py",
   "mimetype": "text/x-python",
   "name": "python",
   "nbconvert_exporter": "python",
   "pygments_lexer": "ipython3",
   "version": "3.7.11"
  },
  "orig_nbformat": 4
 },
 "nbformat": 4,
 "nbformat_minor": 2
}
