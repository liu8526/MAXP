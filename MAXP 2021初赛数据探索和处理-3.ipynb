{
 "cells": [
  {
   "cell_type": "markdown",
   "metadata": {},
   "source": [
    "# MAXP 2021初赛数据探索和处理-3\n",
    "\n",
    "使用步骤1里处理好的节点的ID，来构建DGL的graph所需要的边列表。"
   ]
  },
  {
   "cell_type": "code",
   "execution_count": null,
   "metadata": {},
   "outputs": [],
   "source": [
    "import pandas as pd\n",
    "import numpy as np\n",
    "import os\n",
    "\n",
    "import dgl"
   ]
  },
  {
   "cell_type": "code",
   "execution_count": 51,
   "metadata": {},
   "outputs": [],
   "source": [
    "# path\n",
    "base_path = '../'\n",
    "publish_path = 'MAXPdata'\n",
    "\n",
    "link_p1_path = os.path.join(base_path, publish_path, 'link_phase1.csv')\n",
    "nodes_path = os.path.join(base_path, publish_path, 'IDandLabels.csv')"
   ]
  },
  {
   "cell_type": "markdown",
   "metadata": {},
   "source": [
    "### 读取节点列表"
   ]
  },
  {
   "cell_type": "code",
   "execution_count": null,
   "metadata": {},
   "outputs": [],
   "source": [
    "nodes_df = pd.read_csv(nodes_path, dtype={'Label':str})\n",
    "print(nodes_df.shape)\n",
    "nodes_df.head(4)"
   ]
  },
  {
   "cell_type": "markdown",
   "metadata": {},
   "source": [
    "### 读取边列表"
   ]
  },
  {
   "cell_type": "code",
   "execution_count": null,
   "metadata": {},
   "outputs": [],
   "source": [
    "edges_df = pd.read_csv(link_p1_path)\n",
    "print(edges_df.shape)\n",
    "edges_df.head()"
   ]
  },
  {
   "cell_type": "markdown",
   "metadata": {},
   "source": [
    "## Join点列表和边列表以生成从0开始的边列表\n",
    "\n",
    "DGL默认节点是从0开始，并以最大的ID为容量构建Graph，因此这里我们先构建从0开始的边列表。"
   ]
  },
  {
   "cell_type": "code",
   "execution_count": null,
   "metadata": {},
   "outputs": [],
   "source": [
    "# Merge paper_id列\n",
    "edges = edges_df.merge(nodes_df, on='paper_id', how='left')\n",
    "# Merge reference_paper_id列\n",
    "edges = edges.merge(nodes_df, left_on='reference_paper_id', right_on='paper_id', how='left')\n",
    "print(edges.shape)\n",
    "edges.head(4)"
   ]
  },
  {
   "cell_type": "markdown",
   "metadata": {},
   "source": [
    "#### 修改node_idx_* 列的名称作为新的node id，并只保留需要的列"
   ]
  },
  {
   "cell_type": "code",
   "execution_count": null,
   "metadata": {},
   "outputs": [],
   "source": [
    "edges.rename(columns={'paper_id_x': 'paper_id', 'node_idx_x':'src_nid', 'node_idx_y':'dst_nid'}, inplace=True)\n",
    "edges = edges[['src_nid', 'dst_nid', 'paper_id', 'reference_paper_id']]\n",
    "edges.head(4)"
   ]
  },
  {
   "cell_type": "markdown",
   "metadata": {},
   "source": [
    "## 构建DGL的Graph"
   ]
  },
  {
   "cell_type": "code",
   "execution_count": null,
   "metadata": {},
   "outputs": [],
   "source": [
    "# 讲源节点和目标节点转换成Numpy的NDArray\n",
    "src_nid = edges.src_nid.to_numpy()\n",
    "dst_nid = edges.dst_nid.to_numpy()"
   ]
  },
  {
   "cell_type": "code",
   "execution_count": null,
   "metadata": {},
   "outputs": [],
   "source": [
    "# nodes_df['node_idx']\n",
    "AllNodes = np.concatenate((src_nid,dst_nid),axis=0)\n",
    "AllNodes = np.unique(AllNodes)"
   ]
  },
  {
   "cell_type": "code",
   "execution_count": null,
   "metadata": {},
   "outputs": [],
   "source": [
    "test_dict = {'EdgeNodes':AllNodes}\n",
    "EdgeNodes = pd.DataFrame(test_dict)"
   ]
  },
  {
   "cell_type": "code",
   "execution_count": null,
   "metadata": {},
   "outputs": [],
   "source": [
    "EdgeNodes\n",
    "AllNodes=nodes_df[['node_idx']]\n",
    "\n",
    "DiffNodes=AllNodes[~AllNodes['node_idx'].isin(EdgeNodes['EdgeNodes'])]\n",
    "DiffNodes"
   ]
  },
  {
   "cell_type": "code",
   "execution_count": null,
   "metadata": {},
   "outputs": [],
   "source": [
    "with open('../MAXPdata/AddEdges/EdgeNodes.npy', 'wb') as f:\n",
    "    np.save(f, EdgeNodes['EdgeNodes'].to_numpy())\n",
    "\n",
    "with open('../MAXPdata/AddEdges/DiffNodes.npy', 'wb') as f:\n",
    "    np.save(f, DiffNodes['node_idx'].to_numpy())"
   ]
  },
  {
   "cell_type": "code",
   "execution_count": null,
   "metadata": {},
   "outputs": [],
   "source": [
    "import pandas as pd\n",
    "import numpy as np\n",
    "import os\n",
    "import dgl\n",
    "\n",
    "EdgeNodes = np.load('../MAXPdata/AddEdges/EdgeNodes.npy')\n",
    "DiffNodes = np.load('../MAXPdata/AddEdges/DiffNodes.npy')\n",
    "features = np.load(os.path.join('../MAXPdata', 'features.npy'))"
   ]
  },
  {
   "cell_type": "code",
   "execution_count": null,
   "metadata": {},
   "outputs": [],
   "source": [
    "DiffFeat = features[DiffNodes]#.astype(np.float16)\n",
    "EdgeFeat = features[EdgeNodes]#.astype(np.float16)"
   ]
  },
  {
   "cell_type": "code",
   "execution_count": null,
   "metadata": {},
   "outputs": [],
   "source": [
    "def compute_distances_no_loops(MatrA, X):\n",
    "    \"\"\"\n",
    "    Compute the distance between each test point in X and each training point\n",
    "    in MatrA using no explicit loops.\n",
    "\n",
    "    Input / Output: Same as compute_distances_two_loops\n",
    "    \"\"\"\n",
    "    num_test = X.shape[0]\n",
    "    num_train = MatrA.shape[0]\n",
    "    dists = np.zeros((num_test, num_train), dtype=np.float16) \n",
    "\n",
    "    dists = np.sqrt(-2*np.dot(X, MatrA.T) + np.sum(np.square(MatrA), axis = 1) + np.transpose([np.sum(np.square(X), axis = 1)]))\n",
    "\n",
    "    return dists"
   ]
  },
  {
   "cell_type": "code",
   "execution_count": null,
   "metadata": {},
   "outputs": [],
   "source": [
    "import os\n",
    "os.environ[\"CUDA_VISIBLE_DEVICES\"] = \"0\"\n",
    "# torch.cuda.empty_cache()"
   ]
  },
  {
   "cell_type": "code",
   "execution_count": 75,
   "metadata": {},
   "outputs": [
    {
     "name": "stdout",
     "output_type": "stream",
     "text": [
      "[[1. 1. 0. 6. 0. 0. 3.]\n",
      " [1. 1. 0. 6. 0. 0. 3.]]\n"
     ]
    }
   ],
   "source": [
    "import torch\n",
    "\n",
    "def EuclideanDistances(a,b):\n",
    "    sq_a = a**2\n",
    "    sum_sq_a = torch.sum(sq_a,dim=1).unsqueeze(1)  # m->[m, 1]\n",
    "    sq_b = b**2\n",
    "    sum_sq_b = torch.sum(sq_b,dim=1).unsqueeze(0)  # n->[1, n]\n",
    "    bt = b.t()\n",
    "    return torch.sqrt(sum_sq_a+sum_sq_b-2*a.mm(bt))\n",
    "\n",
    "Ma = np.asarray([[1,2],\n",
    "                [1,2]]) \n",
    "Mb = np.asarray([[1,1],\n",
    "                [1,1],\n",
    "                [1,2],\n",
    "                [1,8],\n",
    "                [1,2],\n",
    "                [1,2],\n",
    "                [1,5]]) \n",
    "Dists=compute_distances_no_loops(Ma, Mb).T\n",
    "print(Dists)\n",
    "\n",
    "# with torch.no_grad():\n",
    "#     Ma = torch.from_numpy(Ma).float().cuda()\n",
    "#     Mb = torch.from_numpy(Mb).float().cuda()\n",
    "#     Dists=EuclideanDistances(Ma, Mb)\n",
    "# print(Dists)\n",
    "\n",
    "# del Ma, Mb, Dists\n",
    "# torch.cuda.empty_cache()"
   ]
  },
  {
   "cell_type": "code",
   "execution_count": 32,
   "metadata": {},
   "outputs": [],
   "source": [
    "RANGE = DiffFeat.shape[0]\n",
    "Step = 300\n",
    "save = torch.from_numpy(np.array([])).cpu()\n",
    "with torch.no_grad():\n",
    "    Mb = torch.from_numpy(EdgeFeat).float().cuda()\n",
    "    for i in range(0, RANGE, Step):\n",
    "        Ma = torch.from_numpy(DiffFeat[i:(i+Step if (i+Step)<RANGE else RANGE), :]).float().cuda()\n",
    "        Dists=EuclideanDistances(Ma, Mb)\n",
    "        save = torch.cat([save, torch.argmin(Dists, dim=1).cpu()], 0)\n"
   ]
  },
  {
   "cell_type": "code",
   "execution_count": 46,
   "metadata": {},
   "outputs": [],
   "source": [
    "AddSrc = DiffNodes.astype(np.int32)\n",
    "AddDst = save.numpy().astype(np.int32)"
   ]
  },
  {
   "cell_type": "code",
   "execution_count": 73,
   "metadata": {},
   "outputs": [
    {
     "data": {
      "text/plain": [
       "Graph(num_nodes=3655452, num_edges=29792735,\n",
       "      ndata_schemes={}\n",
       "      edata_schemes={})"
      ]
     },
     "execution_count": 73,
     "metadata": {},
     "output_type": "execute_result"
    }
   ],
   "source": [
    "graphs, _ = dgl.load_graphs(os.path.join(base_path, publish_path, 'graph.bin'))\n",
    "graphs[0]"
   ]
  },
  {
   "cell_type": "code",
   "execution_count": 71,
   "metadata": {},
   "outputs": [
    {
     "data": {
      "text/plain": [
       "Graph(num_nodes=3655452, num_edges=29792735,\n",
       "      ndata_schemes={}\n",
       "      edata_schemes={})"
      ]
     },
     "execution_count": 71,
     "metadata": {},
     "output_type": "execute_result"
    }
   ],
   "source": [
    "graphs[0].add_edges(AddSrc, AddDst)\n",
    "graphs[0]"
   ]
  },
  {
   "cell_type": "code",
   "execution_count": null,
   "metadata": {},
   "outputs": [],
   "source": [
    "# 构建一个DGL的graph\n",
    "graph = dgl.graph((src_nid, dst_nid))\n",
    "print(graph)"
   ]
  },
  {
   "cell_type": "code",
   "execution_count": 72,
   "metadata": {},
   "outputs": [],
   "source": [
    "# 保存Graph为二进制格式方便后面建模时的快速读取\n",
    "graph_path = os.path.join(base_path, publish_path, 'NEWgraph.bin')\n",
    "dgl.data.utils.save_graphs(graph_path, [graphs[0]])"
   ]
  }
 ],
 "metadata": {
  "interpreter": {
   "hash": "da3baeefc63dd2b5a45121a4a8d592321b6521653744db7f981e38554682dd0f"
  },
  "kernelspec": {
   "display_name": "Python 3.7.11 64-bit ('py37': conda)",
   "name": "python3"
  },
  "language_info": {
   "codemirror_mode": {
    "name": "ipython",
    "version": 3
   },
   "file_extension": ".py",
   "mimetype": "text/x-python",
   "name": "python",
   "nbconvert_exporter": "python",
   "pygments_lexer": "ipython3",
   "version": "3.7.11"
  }
 },
 "nbformat": 4,
 "nbformat_minor": 2
}
